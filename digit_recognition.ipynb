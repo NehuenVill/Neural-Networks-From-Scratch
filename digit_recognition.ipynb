{
 "cells": [
  {
   "cell_type": "code",
   "execution_count": 17,
   "metadata": {},
   "outputs": [],
   "source": [
    "import numpy as np\n",
    "import pandas as pd\n",
    "from matplotlib import pyplot as plt\n",
    "\n",
    "data = pd.read_csv('train.csv')"
   ]
  },
  {
   "cell_type": "code",
   "execution_count": 18,
   "metadata": {},
   "outputs": [],
   "source": [
    "data = np.array(data)"
   ]
  },
  {
   "cell_type": "code",
   "execution_count": 19,
   "metadata": {},
   "outputs": [],
   "source": [
    "m, n = data.shape\n",
    "np.random.shuffle(data)"
   ]
  },
  {
   "cell_type": "code",
   "execution_count": 20,
   "metadata": {},
   "outputs": [],
   "source": [
    "data_dev = data[0:1000].T \n",
    "Y_dev = data_dev[0]\n",
    "X_dev = data_dev[1:n]\n",
    "X_dev = X_dev / 255. # Each pixel has a value ranging from 0 (totally white) to 255 (totally black), dividing by 255 will make the range go from 0 to 1"
   ]
  },
  {
   "cell_type": "code",
   "execution_count": 21,
   "metadata": {},
   "outputs": [],
   "source": [
    "data_train = data[1000:m].T # Turning each pixel in a row and each column in a sample.\n",
    "Y_train = data_train[0]\n",
    "X_train = data_train[1:n]\n",
    "X_train = X_train / 255. # doing \"255.\" instead of \"255\" ensures that the resulting array elements are fully converted in floats (otherwise the accuracy of the model would be lower)\n",
    "_,m_train = X_train.shape"
   ]
  },
  {
   "cell_type": "markdown",
   "metadata": {},
   "source": [
    "## Functions"
   ]
  },
  {
   "cell_type": "code",
   "execution_count": 22,
   "metadata": {},
   "outputs": [],
   "source": [
    "def init_params():\n",
    "    W1 = np.random.rand(10, 784) - 0.5 # random array of values -0.5 to 0.5 in the shape 10x784\n",
    "    b1 = np.random.rand(10, 1) - 0.5\n",
    "    W2 = np.random.rand(10, 10) - 0.5\n",
    "    b2 = np.random.rand(10, 1) - 0.5\n",
    "    return W1, b1, W2, b2\n",
    "\n",
    "def ReLU(Z):\n",
    "    return np.maximum(Z, 0)\n",
    "\n",
    "def softmax(Z):\n",
    "    A = np.exp(Z) / sum(np.exp(Z))\n",
    "    return A\n",
    "    \n",
    "def forward_prop(W1, b1, W2, b2, X):\n",
    "    Z1 = W1.dot(X) + b1\n",
    "    A1 = ReLU(Z1)\n",
    "    Z2 = W2.dot(A1) + b2\n",
    "    A2 = softmax(Z2)\n",
    "    return Z1, A1, Z2, A2\n",
    "\n",
    "def ReLU_deriv(Z):\n",
    "    return Z > 0\n",
    "\n",
    "def one_hot(Y):\n",
    "    one_hot_Y = np.zeros((Y.size, Y.max() + 1))\n",
    "    one_hot_Y[np.arange(Y.size), Y] = 1\n",
    "    one_hot_Y = one_hot_Y.T\n",
    "    return one_hot_Y\n",
    "\n",
    "def backward_prop(Z1, A1, Z2, A2, W1, W2, X, Y):\n",
    "    one_hot_Y = one_hot(Y)\n",
    "    dZ2 = A2 - one_hot_Y\n",
    "    dW2 = 1 / m * dZ2.dot(A1.T)\n",
    "    db2 = 1 / m * np.sum(dZ2)\n",
    "    dZ1 = W2.T.dot(dZ2) * ReLU_deriv(Z1)\n",
    "    dW1 = 1 / m * dZ1.dot(X.T)\n",
    "    db1 = 1 / m * np.sum(dZ1)\n",
    "    return dW1, db1, dW2, db2\n",
    "\n",
    "def update_params(W1, b1, W2, b2, dW1, db1, dW2, db2, alpha):\n",
    "    W1 = W1 - alpha * dW1\n",
    "    b1 = b1 - alpha * db1    \n",
    "    W2 = W2 - alpha * dW2  \n",
    "    b2 = b2 - alpha * db2    \n",
    "    return W1, b1, W2, b2\n",
    "\n",
    "def get_predictions(A2):\n",
    "    return np.argmax(A2, 0)\n",
    "\n",
    "def get_accuracy(predictions, Y):\n",
    "    print(predictions, Y)\n",
    "    return np.sum(predictions == Y) / Y.size\n",
    "\n",
    "def gradient_descent(X, Y, alpha, iterations):\n",
    "    W1, b1, W2, b2 = init_params()\n",
    "    for i in range(iterations):\n",
    "        Z1, A1, Z2, A2 = forward_prop(W1, b1, W2, b2, X)\n",
    "        dW1, db1, dW2, db2 = backward_prop(Z1, A1, Z2, A2, W1, W2, X, Y)\n",
    "        W1, b1, W2, b2 = update_params(W1, b1, W2, b2, dW1, db1, dW2, db2, alpha)\n",
    "        if i % 10 == 0:\n",
    "            print(\"Iteration: \", i)\n",
    "            predictions = get_predictions(A2)\n",
    "            print(get_accuracy(predictions, Y))\n",
    "    return W1, b1, W2, b2"
   ]
  },
  {
   "cell_type": "markdown",
   "metadata": {},
   "source": [
    "## Playing arround with the functions"
   ]
  },
  {
   "cell_type": "code",
   "execution_count": 28,
   "metadata": {},
   "outputs": [
    {
     "name": "stdout",
     "output_type": "stream",
     "text": [
      "(10, 784)\n",
      "(10, 1)\n",
      "(10, 10)\n",
      "(10, 1)\n"
     ]
    }
   ],
   "source": [
    "W1, b1, W2, b2 = init_params()\n",
    "\n",
    "print(W1.shape) #Each connection between neurons from different layers has one different weight (10 neurons in the 2nd layer, and 784 in the first one)\n",
    "print(b1.shape) #Each neuron has only one bias, b1 is the matrix of biases of the second layer (10 neurons)\n",
    "print(W2.shape)\n",
    "print(b2.shape)\n"
   ]
  },
  {
   "cell_type": "code",
   "execution_count": null,
   "metadata": {},
   "outputs": [],
   "source": []
  },
  {
   "cell_type": "markdown",
   "metadata": {},
   "source": [
    "## Excecuting the algorithm and making predictions"
   ]
  },
  {
   "cell_type": "code",
   "execution_count": 24,
   "metadata": {},
   "outputs": [
    {
     "name": "stdout",
     "output_type": "stream",
     "text": [
      "Iteration:  0\n",
      "[2 1 7 ... 9 7 6] [5 1 1 ... 7 1 3]\n",
      "0.13507317073170733\n",
      "Iteration:  10\n",
      "[2 1 7 ... 8 1 6] [5 1 1 ... 7 1 3]\n",
      "0.21739024390243902\n",
      "Iteration:  20\n",
      "[2 1 7 ... 8 1 6] [5 1 1 ... 7 1 3]\n",
      "0.31321951219512195\n",
      "Iteration:  30\n",
      "[2 1 1 ... 7 1 6] [5 1 1 ... 7 1 3]\n",
      "0.36790243902439024\n",
      "Iteration:  40\n",
      "[2 1 1 ... 7 1 1] [5 1 1 ... 7 1 3]\n",
      "0.4103170731707317\n",
      "Iteration:  50\n",
      "[2 1 1 ... 7 1 1] [5 1 1 ... 7 1 3]\n",
      "0.44990243902439025\n",
      "Iteration:  60\n",
      "[2 1 1 ... 7 1 1] [5 1 1 ... 7 1 3]\n",
      "0.48621951219512194\n",
      "Iteration:  70\n",
      "[2 1 1 ... 7 1 1] [5 1 1 ... 7 1 3]\n",
      "0.5175853658536586\n",
      "Iteration:  80\n",
      "[2 1 1 ... 7 1 1] [5 1 1 ... 7 1 3]\n",
      "0.5468048780487805\n",
      "Iteration:  90\n",
      "[2 1 1 ... 7 1 1] [5 1 1 ... 7 1 3]\n",
      "0.5741463414634146\n",
      "Iteration:  100\n",
      "[2 1 1 ... 7 1 1] [5 1 1 ... 7 1 3]\n",
      "0.6010731707317073\n",
      "Iteration:  110\n",
      "[2 1 1 ... 7 1 1] [5 1 1 ... 7 1 3]\n",
      "0.6271219512195122\n",
      "Iteration:  120\n",
      "[2 1 1 ... 7 1 1] [5 1 1 ... 7 1 3]\n",
      "0.6505121951219512\n",
      "Iteration:  130\n",
      "[8 1 1 ... 7 1 1] [5 1 1 ... 7 1 3]\n",
      "0.6730975609756098\n",
      "Iteration:  140\n",
      "[8 1 1 ... 7 1 1] [5 1 1 ... 7 1 3]\n",
      "0.6894878048780487\n",
      "Iteration:  150\n",
      "[8 1 1 ... 7 1 1] [5 1 1 ... 7 1 3]\n",
      "0.7059268292682926\n",
      "Iteration:  160\n",
      "[8 1 1 ... 7 1 1] [5 1 1 ... 7 1 3]\n",
      "0.7183414634146341\n",
      "Iteration:  170\n",
      "[8 1 1 ... 7 1 1] [5 1 1 ... 7 1 3]\n",
      "0.7294634146341463\n",
      "Iteration:  180\n",
      "[8 1 1 ... 7 1 1] [5 1 1 ... 7 1 3]\n",
      "0.7400731707317073\n",
      "Iteration:  190\n",
      "[8 1 1 ... 7 1 1] [5 1 1 ... 7 1 3]\n",
      "0.7485121951219512\n",
      "Iteration:  200\n",
      "[8 1 1 ... 7 1 1] [5 1 1 ... 7 1 3]\n",
      "0.7577073170731707\n",
      "Iteration:  210\n",
      "[8 1 1 ... 7 1 1] [5 1 1 ... 7 1 3]\n",
      "0.7656829268292683\n",
      "Iteration:  220\n",
      "[8 1 1 ... 7 1 1] [5 1 1 ... 7 1 3]\n",
      "0.773\n",
      "Iteration:  230\n",
      "[8 1 1 ... 7 1 1] [5 1 1 ... 7 1 3]\n",
      "0.7796829268292683\n",
      "Iteration:  240\n",
      "[8 1 1 ... 7 1 1] [5 1 1 ... 7 1 3]\n",
      "0.7852439024390244\n",
      "Iteration:  250\n",
      "[8 1 1 ... 7 1 1] [5 1 1 ... 7 1 3]\n",
      "0.7907317073170732\n",
      "Iteration:  260\n",
      "[8 1 1 ... 7 1 1] [5 1 1 ... 7 1 3]\n",
      "0.7955609756097561\n",
      "Iteration:  270\n",
      "[8 1 1 ... 7 1 1] [5 1 1 ... 7 1 3]\n",
      "0.8\n",
      "Iteration:  280\n",
      "[8 1 1 ... 7 1 1] [5 1 1 ... 7 1 3]\n",
      "0.8043170731707318\n",
      "Iteration:  290\n",
      "[8 1 1 ... 7 1 1] [5 1 1 ... 7 1 3]\n",
      "0.8085609756097561\n",
      "Iteration:  300\n",
      "[8 1 1 ... 7 1 3] [5 1 1 ... 7 1 3]\n",
      "0.8120975609756098\n",
      "Iteration:  310\n",
      "[8 1 1 ... 7 1 3] [5 1 1 ... 7 1 3]\n",
      "0.8158048780487804\n",
      "Iteration:  320\n",
      "[8 1 1 ... 7 1 3] [5 1 1 ... 7 1 3]\n",
      "0.8191951219512195\n",
      "Iteration:  330\n",
      "[8 1 1 ... 7 1 3] [5 1 1 ... 7 1 3]\n",
      "0.822560975609756\n",
      "Iteration:  340\n",
      "[8 1 1 ... 7 1 3] [5 1 1 ... 7 1 3]\n",
      "0.8247560975609756\n",
      "Iteration:  350\n",
      "[8 1 1 ... 7 1 3] [5 1 1 ... 7 1 3]\n",
      "0.8272926829268292\n",
      "Iteration:  360\n",
      "[8 1 1 ... 7 1 3] [5 1 1 ... 7 1 3]\n",
      "0.8298780487804878\n",
      "Iteration:  370\n",
      "[5 1 1 ... 7 1 3] [5 1 1 ... 7 1 3]\n",
      "0.8326341463414634\n",
      "Iteration:  380\n",
      "[5 1 1 ... 7 1 3] [5 1 1 ... 7 1 3]\n",
      "0.8341463414634146\n",
      "Iteration:  390\n",
      "[5 1 1 ... 7 1 3] [5 1 1 ... 7 1 3]\n",
      "0.8365365853658536\n",
      "Iteration:  400\n",
      "[5 1 1 ... 7 1 3] [5 1 1 ... 7 1 3]\n",
      "0.8387560975609756\n",
      "Iteration:  410\n",
      "[5 1 1 ... 7 1 3] [5 1 1 ... 7 1 3]\n",
      "0.8405609756097561\n",
      "Iteration:  420\n",
      "[5 1 1 ... 7 1 3] [5 1 1 ... 7 1 3]\n",
      "0.842609756097561\n",
      "Iteration:  430\n",
      "[5 1 1 ... 7 1 3] [5 1 1 ... 7 1 3]\n",
      "0.8439024390243902\n",
      "Iteration:  440\n",
      "[5 1 1 ... 7 1 3] [5 1 1 ... 7 1 3]\n",
      "0.8455609756097561\n",
      "Iteration:  450\n",
      "[5 1 1 ... 7 1 3] [5 1 1 ... 7 1 3]\n",
      "0.8474634146341463\n",
      "Iteration:  460\n",
      "[5 1 1 ... 7 1 3] [5 1 1 ... 7 1 3]\n",
      "0.8486829268292683\n",
      "Iteration:  470\n",
      "[5 1 1 ... 7 1 3] [5 1 1 ... 7 1 3]\n",
      "0.8499268292682927\n",
      "Iteration:  480\n",
      "[5 1 1 ... 7 1 3] [5 1 1 ... 7 1 3]\n",
      "0.8511951219512195\n",
      "Iteration:  490\n",
      "[5 1 1 ... 7 1 3] [5 1 1 ... 7 1 3]\n",
      "0.8522682926829268\n"
     ]
    }
   ],
   "source": [
    "W1, b1, W2, b2 = gradient_descent(X_train, Y_train, 0.10, 500)"
   ]
  },
  {
   "cell_type": "code",
   "execution_count": 25,
   "metadata": {},
   "outputs": [],
   "source": [
    "def make_predictions(X, W1, b1, W2, b2):\n",
    "    _, _, _, A2 = forward_prop(W1, b1, W2, b2, X)\n",
    "    predictions = get_predictions(A2)\n",
    "    return predictions\n",
    "\n",
    "def test_prediction(index, W1, b1, W2, b2):\n",
    "    current_image = X_train[:, index, None]\n",
    "    prediction = make_predictions(X_train[:, index, None], W1, b1, W2, b2)\n",
    "    label = Y_train[index]\n",
    "    print(\"Prediction: \", prediction)\n",
    "    print(\"Label: \", label)\n",
    "    \n",
    "    current_image = current_image.reshape((28, 28)) * 255\n",
    "    plt.gray()\n",
    "    plt.imshow(current_image, interpolation='nearest')\n",
    "    plt.show()"
   ]
  },
  {
   "cell_type": "code",
   "execution_count": 26,
   "metadata": {},
   "outputs": [
    {
     "name": "stdout",
     "output_type": "stream",
     "text": [
      "Prediction:  [5]\n",
      "Label:  5\n"
     ]
    },
    {
     "data": {
      "image/png": "[encoded data removed]",
      "text/plain": [
       "<Figure size 432x288 with 1 Axes>"
      ]
     },
     "metadata": {
      "needs_background": "light"
     },
     "output_type": "display_data"
    },
    {
     "name": "stdout",
     "output_type": "stream",
     "text": [
      "Prediction:  [1]\n",
      "Label:  1\n"
     ]
    },
    {
     "data": {
      "image/png": "[encoded data removed]",
      "text/plain": [
       "<Figure size 432x288 with 1 Axes>"
      ]
     },
     "metadata": {
      "needs_background": "light"
     },
     "output_type": "display_data"
    },
    {
     "name": "stdout",
     "output_type": "stream",
     "text": [
      "Prediction:  [1]\n",
      "Label:  1\n"
     ]
    },
    {
     "data": {
      "image/png": "[encoded data removed]",
      "text/plain": [
       "<Figure size 432x288 with 1 Axes>"
      ]
     },
     "metadata": {
      "needs_background": "light"
     },
     "output_type": "display_data"
    },
    {
     "name": "stdout",
     "output_type": "stream",
     "text": [
      "Prediction:  [4]\n",
      "Label:  4\n"
     ]
    },
    {
     "data": {
      "image/png": "[encoded data removed]",
      "text/plain": [
       "<Figure size 432x288 with 1 Axes>"
      ]
     },
     "metadata": {
      "needs_background": "light"
     },
     "output_type": "display_data"
    }
   ],
   "source": [
    "test_prediction(0, W1, b1, W2, b2)\n",
    "test_prediction(1, W1, b1, W2, b2)\n",
    "test_prediction(2, W1, b1, W2, b2)\n",
    "test_prediction(3, W1, b1, W2, b2)"
   ]
  },
  {
   "cell_type": "markdown",
   "metadata": {},
   "source": [
    "## Acurracy on the dev set"
   ]
  },
  {
   "cell_type": "code",
   "execution_count": 27,
   "metadata": {},
   "outputs": [
    {
     "name": "stdout",
     "output_type": "stream",
     "text": [
      "[8 0 3 0 6 4 9 0 7 1 1 1 3 7 8 5 5 7 7 9 5 7 6 3 1 7 7 6 5 3 0 0 4 8 2 8 1\n",
      " 2 5 2 2 4 0 1 5 7 6 7 1 0 1 0 6 5 6 9 6 6 7 1 7 3 8 7 5 2 0 4 8 9 4 7 1 3\n",
      " 6 1 2 7 5 7 2 2 6 4 8 3 2 6 2 3 6 2 7 5 6 4 4 2 4 2 8 7 5 0 9 2 6 1 9 0 7\n",
      " 1 4 3 0 5 3 3 4 4 9 1 2 0 8 8 9 6 1 0 3 3 2 1 3 4 6 3 4 9 3 2 3 9 9 9 7 6\n",
      " 1 1 9 1 7 9 8 0 5 9 1 7 9 7 4 9 4 5 9 9 9 0 9 1 8 1 2 2 9 3 2 1 7 0 8 0 5\n",
      " 1 9 5 1 8 0 3 4 2 3 5 6 1 5 2 3 8 5 8 1 2 9 0 7 4 7 3 7 7 0 0 2 0 5 6 5 3\n",
      " 7 8 9 9 0 7 2 3 2 2 8 8 3 7 2 7 3 3 2 6 8 4 2 3 9 9 1 1 8 3 7 4 8 1 9 4 8\n",
      " 9 5 2 0 8 0 6 3 9 8 1 1 7 5 6 4 6 0 4 5 6 2 9 5 8 5 5 4 9 0 0 9 6 9 6 2 3\n",
      " 2 9 8 6 9 2 0 9 9 3 7 5 8 9 3 9 9 7 6 1 0 1 7 8 0 7 2 3 7 2 7 3 9 4 9 0 4\n",
      " 5 4 9 9 4 4 0 0 7 7 3 9 7 5 7 9 2 7 2 6 0 2 9 2 0 5 7 6 2 7 3 9 3 7 1 0 9\n",
      " 5 6 6 8 6 6 9 1 4 8 4 2 1 3 0 1 4 6 8 4 1 3 2 9 9 4 7 8 5 0 6 0 0 8 1 3 9\n",
      " 6 2 7 9 9 4 0 9 1 9 5 1 8 0 7 0 6 0 2 9 4 2 1 9 9 6 1 8 8 4 7 7 9 1 3 0 0\n",
      " 8 6 3 2 2 6 9 1 5 1 1 8 0 6 9 7 2 7 7 4 9 0 4 5 5 2 6 0 2 9 3 7 5 1 0 1 6\n",
      " 3 4 6 9 2 8 4 2 9 3 8 3 6 2 1 6 5 1 8 3 8 3 1 8 5 3 2 6 5 7 1 1 0 7 1 6 3\n",
      " 4 8 6 0 5 3 0 4 3 1 6 8 6 7 3 9 9 6 0 3 0 8 7 9 0 3 9 8 3 1 0 2 1 1 2 8 2\n",
      " 5 5 7 4 1 2 1 3 2 9 1 7 6 4 9 4 1 8 7 8 8 9 9 0 0 4 2 7 3 8 1 6 5 8 5 1 9\n",
      " 4 6 6 8 4 4 3 5 7 2 6 3 8 5 1 2 3 4 5 4 6 1 7 5 0 8 2 1 7 4 0 8 3 1 7 0 1\n",
      " 3 5 2 4 4 0 4 2 4 0 2 1 4 4 4 1 5 2 2 7 3 7 3 2 9 2 1 0 7 2 9 0 5 4 0 4 6\n",
      " 5 9 0 3 8 7 8 7 3 6 0 0 1 4 6 7 2 4 4 4 0 9 2 4 9 8 5 1 6 3 8 6 2 5 0 9 2\n",
      " 3 6 0 0 4 3 5 9 6 2 2 7 2 1 8 9 7 5 5 6 5 3 3 8 0 6 5 0 7 9 7 2 3 2 4 4 4\n",
      " 8 9 2 9 0 5 7 4 5 7 1 7 0 3 8 1 4 6 3 1 6 0 6 6 2 3 4 8 3 5 6 0 8 4 2 1 6\n",
      " 3 7 3 2 5 0 0 0 8 8 2 1 0 0 1 3 9 9 6 2 9 5 9 3 8 1 3 6 0 4 6 3 5 6 1 0 6\n",
      " 2 5 8 7 4 6 1 6 0 2 5 3 7 7 1 9 7 1 0 1 3 1 1 7 1 7 8 5 0 8 7 8 0 1 7 4 0\n",
      " 7 0 0 7 4 6 7 4 6 7 7 4 2 2 6 1 5 8 6 2 2 8 1 2 9 4 9 6 7 4 0 6 1 7 1 8 0\n",
      " 2 0 0 1 5 1 1 1 6 3 4 3 6 7 0 0 7 3 1 6 3 2 4 9 2 1 6 7 8 6 2 3 9 1 2 3 7\n",
      " 3 0 8 3 2 6 4 8 6 2 9 0 9 3 3 2 7 7 2 8 9 3 1 1 4 3 3 7 9 7 0 7 9 5 8 1 2\n",
      " 1 2 8 3 9 2 0 8 1 8 9 3 3 9 3 6 3 4 5 0 6 5 9 6 1 2 0 2 6 6 0 2 0 6 8 6 7\n",
      " 3] [8 0 8 0 6 4 9 0 7 1 1 1 3 7 8 5 0 7 7 9 9 7 6 3 1 7 7 5 5 3 0 7 4 8 2 8 1\n",
      " 2 5 2 2 4 0 1 5 7 2 0 1 0 1 0 6 5 6 9 6 6 7 7 7 3 8 7 5 2 0 4 8 9 4 7 1 3\n",
      " 6 1 2 7 5 7 2 2 6 7 8 5 2 6 2 3 6 2 7 5 6 4 2 2 4 2 8 8 3 0 9 2 2 1 4 0 7\n",
      " 1 4 2 0 8 3 8 4 4 9 1 2 0 8 8 9 6 1 0 3 3 2 1 3 4 6 3 4 9 3 2 3 7 9 4 7 4\n",
      " 1 1 9 1 7 9 8 0 3 9 1 9 9 7 9 9 4 8 7 9 9 0 9 1 8 1 2 2 9 3 2 1 5 0 0 0 7\n",
      " 1 9 5 1 8 0 3 4 2 3 8 6 1 8 2 3 5 5 5 1 2 7 0 7 4 7 3 5 7 0 0 2 0 5 6 5 3\n",
      " 7 5 9 9 0 7 2 3 2 6 8 3 5 7 2 7 3 2 2 6 5 4 2 8 3 9 1 1 8 3 7 4 8 1 9 4 8\n",
      " 9 8 2 0 5 3 6 3 8 5 1 1 7 5 6 9 6 0 4 5 6 7 4 8 8 8 8 4 9 0 0 9 6 9 6 2 8\n",
      " 2 7 8 6 9 2 0 9 9 5 7 5 8 7 3 9 7 7 6 1 5 1 7 8 0 7 2 3 7 2 7 5 9 4 9 0 4\n",
      " 8 4 4 9 4 4 0 0 7 7 9 9 7 5 7 9 2 7 2 6 3 2 8 2 0 5 7 6 6 7 3 9 3 7 1 0 9\n",
      " 5 6 6 8 6 6 9 1 4 8 4 6 1 3 0 1 4 2 8 4 1 1 2 9 9 4 7 8 5 9 6 9 0 8 1 3 4\n",
      " 6 2 7 9 9 4 0 7 1 9 6 1 5 0 7 0 6 0 2 8 4 2 1 9 9 6 1 8 8 4 7 7 8 1 2 0 0\n",
      " 8 6 3 2 2 6 9 1 5 1 2 8 0 6 9 7 2 7 7 2 9 0 4 8 5 9 6 0 2 9 3 7 5 1 0 1 6\n",
      " 3 4 6 9 2 4 4 2 8 3 8 3 2 2 7 6 5 1 3 3 8 3 1 8 5 8 2 6 6 7 1 1 0 7 1 6 3\n",
      " 2 5 6 0 5 3 0 9 8 1 6 8 6 9 3 8 9 6 0 3 0 8 7 9 0 3 9 5 3 1 0 2 1 1 2 8 2\n",
      " 3 5 7 9 1 3 1 3 2 9 1 7 6 4 9 2 1 2 7 8 3 9 9 0 0 4 2 7 3 8 1 2 5 2 5 1 9\n",
      " 4 6 6 8 4 4 3 5 7 2 8 3 8 5 1 2 3 4 5 4 6 1 7 5 3 8 2 5 7 4 2 6 3 1 7 9 8\n",
      " 3 5 2 9 4 0 4 2 4 0 2 8 4 4 4 1 5 2 3 7 3 7 3 2 9 2 1 0 7 2 9 0 8 2 0 4 6\n",
      " 5 9 0 3 8 7 8 7 3 6 5 0 1 4 6 7 2 4 4 4 0 9 2 4 9 8 5 3 6 3 0 6 2 5 0 7 2\n",
      " 3 2 0 7 4 3 5 9 6 2 2 7 2 8 9 9 7 5 5 2 5 1 3 8 0 6 5 0 7 9 7 2 3 2 4 4 4\n",
      " 8 9 2 9 0 5 7 4 5 7 1 7 0 3 8 1 4 6 3 1 2 0 6 6 2 3 4 8 3 6 6 0 8 4 2 1 2\n",
      " 3 7 3 2 5 0 0 0 8 8 2 1 0 0 1 3 9 9 6 2 9 5 7 3 8 1 3 6 0 4 6 3 5 4 1 3 6\n",
      " 2 5 0 7 4 6 1 2 0 2 0 3 1 9 1 9 7 1 0 1 3 1 1 7 1 5 8 5 0 8 7 8 0 1 5 4 0\n",
      " 7 0 0 9 4 4 7 4 6 7 7 9 2 2 6 1 3 8 6 3 2 8 1 2 9 4 9 2 7 4 2 6 1 7 1 8 0\n",
      " 2 0 0 1 8 1 1 1 6 3 4 3 6 7 0 0 7 3 1 6 3 2 4 9 2 1 6 5 5 6 2 5 9 1 2 3 7\n",
      " 1 0 8 8 2 6 4 8 6 2 9 0 9 5 3 2 7 7 8 8 4 5 1 1 4 3 3 7 9 7 0 7 9 5 7 1 2\n",
      " 1 2 4 3 9 2 0 3 3 8 9 3 3 9 3 6 3 4 5 0 6 5 9 6 1 2 0 2 6 6 0 2 0 6 8 2 7\n",
      " 3]\n"
     ]
    },
    {
     "data": {
      "text/plain": [
       "0.838"
      ]
     },
     "execution_count": 27,
     "metadata": {},
     "output_type": "execute_result"
    }
   ],
   "source": [
    "dev_predictions = make_predictions(X_dev, W1, b1, W2, b2)\n",
    "get_accuracy(dev_predictions, Y_dev)"
   ]
  }
 ],
 "metadata": {
  "interpreter": {
   "hash": "3a4565eb6215a326995d9cfd00f1782ebb9ab334d122fb684360bfee2e0fdc62"
  },
  "kernelspec": {
   "display_name": "Python 3.9.5 64-bit",
   "language": "python",
   "name": "python3"
  },
  "language_info": {
   "codemirror_mode": {
    "name": "ipython",
    "version": 3
   },
   "file_extension": ".py",
   "mimetype": "text/x-python",
   "name": "python",
   "nbconvert_exporter": "python",
   "pygments_lexer": "ipython3",
   "version": "3.9.5"
  },
  "orig_nbformat": 4
 },
 "nbformat": 4,
 "nbformat_minor": 2
}
